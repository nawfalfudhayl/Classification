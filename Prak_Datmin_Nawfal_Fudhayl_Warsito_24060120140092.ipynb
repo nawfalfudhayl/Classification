{
  "nbformat": 4,
  "nbformat_minor": 0,
  "metadata": {
    "colab": {
      "provenance": []
    },
    "kernelspec": {
      "name": "python3",
      "display_name": "Python 3"
    },
    "language_info": {
      "name": "python"
    }
  },
  "cells": [
    {
      "cell_type": "markdown",
      "source": [
        "# **INFOSEC/CYBERSECURITY SALARIES CLASSIFICATION**"
      ],
      "metadata": {
        "id": "2y7Bn8D4Igc9"
      }
    },
    {
      "cell_type": "markdown",
      "source": [
        "# **Import Dataset from Drive** "
      ],
      "metadata": {
        "id": "JXLYfU5rIjF2"
      }
    },
    {
      "cell_type": "code",
      "execution_count": null,
      "metadata": {
        "colab": {
          "base_uri": "https://localhost:8080/"
        },
        "id": "Lp_MVOBjIeM0",
        "outputId": "eab9fcae-8997-4450-e82f-6707a7fc0bb7"
      },
      "outputs": [
        {
          "output_type": "stream",
          "name": "stdout",
          "text": [
            "Mounted at /content/drive\n"
          ]
        }
      ],
      "source": [
        "import pandas as pd\n",
        "import numpy as np\n",
        "import matplotlib.pyplot as mtp\n",
        "\n",
        "from google.colab import drive\n",
        "drive.mount('/content/drive')\n",
        "\n",
        "df = pd.read_csv('/content/drive/MyDrive/PrakDatmin/cyberjob_salaries.csv')"
      ]
    },
    {
      "cell_type": "markdown",
      "source": [
        "# **Data Understanding**"
      ],
      "metadata": {
        "id": "dZLDgQ2iKNPy"
      }
    },
    {
      "cell_type": "code",
      "source": [
        "df.shape"
      ],
      "metadata": {
        "colab": {
          "base_uri": "https://localhost:8080/"
        },
        "id": "JSlDpDMjKRfF",
        "outputId": "c53e6863-c5eb-4a79-ccbc-b770113a67f9"
      },
      "execution_count": null,
      "outputs": [
        {
          "output_type": "execute_result",
          "data": {
            "text/plain": [
              "(848, 4)"
            ]
          },
          "metadata": {},
          "execution_count": 16
        }
      ]
    },
    {
      "cell_type": "code",
      "source": [
        "dataset = df.copy()\n",
        "dataset.head()"
      ],
      "metadata": {
        "colab": {
          "base_uri": "https://localhost:8080/",
          "height": 206
        },
        "id": "PTecIG3oKU6v",
        "outputId": "83b24053-ede0-49bd-d2de-42e73eb885ee"
      },
      "execution_count": null,
      "outputs": [
        {
          "output_type": "execute_result",
          "data": {
            "text/plain": [
              "   work_year  salary  salary_in_usd  remote_ratio\n",
              "0       2022   68000        72762.0           100\n",
              "1       2022  123400       123400.0             0\n",
              "2       2022   88100        88100.0             0\n",
              "3       2022  163575       163575.0           100\n",
              "4       2022  115800            NaN           100"
            ],
            "text/html": [
              "\n",
              "  <div id=\"df-6ef18109-c8c8-4e56-8caf-4cc1dc2b0922\">\n",
              "    <div class=\"colab-df-container\">\n",
              "      <div>\n",
              "<style scoped>\n",
              "    .dataframe tbody tr th:only-of-type {\n",
              "        vertical-align: middle;\n",
              "    }\n",
              "\n",
              "    .dataframe tbody tr th {\n",
              "        vertical-align: top;\n",
              "    }\n",
              "\n",
              "    .dataframe thead th {\n",
              "        text-align: right;\n",
              "    }\n",
              "</style>\n",
              "<table border=\"1\" class=\"dataframe\">\n",
              "  <thead>\n",
              "    <tr style=\"text-align: right;\">\n",
              "      <th></th>\n",
              "      <th>work_year</th>\n",
              "      <th>salary</th>\n",
              "      <th>salary_in_usd</th>\n",
              "      <th>remote_ratio</th>\n",
              "    </tr>\n",
              "  </thead>\n",
              "  <tbody>\n",
              "    <tr>\n",
              "      <th>0</th>\n",
              "      <td>2022</td>\n",
              "      <td>68000</td>\n",
              "      <td>72762.0</td>\n",
              "      <td>100</td>\n",
              "    </tr>\n",
              "    <tr>\n",
              "      <th>1</th>\n",
              "      <td>2022</td>\n",
              "      <td>123400</td>\n",
              "      <td>123400.0</td>\n",
              "      <td>0</td>\n",
              "    </tr>\n",
              "    <tr>\n",
              "      <th>2</th>\n",
              "      <td>2022</td>\n",
              "      <td>88100</td>\n",
              "      <td>88100.0</td>\n",
              "      <td>0</td>\n",
              "    </tr>\n",
              "    <tr>\n",
              "      <th>3</th>\n",
              "      <td>2022</td>\n",
              "      <td>163575</td>\n",
              "      <td>163575.0</td>\n",
              "      <td>100</td>\n",
              "    </tr>\n",
              "    <tr>\n",
              "      <th>4</th>\n",
              "      <td>2022</td>\n",
              "      <td>115800</td>\n",
              "      <td>NaN</td>\n",
              "      <td>100</td>\n",
              "    </tr>\n",
              "  </tbody>\n",
              "</table>\n",
              "</div>\n",
              "      <button class=\"colab-df-convert\" onclick=\"convertToInteractive('df-6ef18109-c8c8-4e56-8caf-4cc1dc2b0922')\"\n",
              "              title=\"Convert this dataframe to an interactive table.\"\n",
              "              style=\"display:none;\">\n",
              "        \n",
              "  <svg xmlns=\"http://www.w3.org/2000/svg\" height=\"24px\"viewBox=\"0 0 24 24\"\n",
              "       width=\"24px\">\n",
              "    <path d=\"M0 0h24v24H0V0z\" fill=\"none\"/>\n",
              "    <path d=\"M18.56 5.44l.94 2.06.94-2.06 2.06-.94-2.06-.94-.94-2.06-.94 2.06-2.06.94zm-11 1L8.5 8.5l.94-2.06 2.06-.94-2.06-.94L8.5 2.5l-.94 2.06-2.06.94zm10 10l.94 2.06.94-2.06 2.06-.94-2.06-.94-.94-2.06-.94 2.06-2.06.94z\"/><path d=\"M17.41 7.96l-1.37-1.37c-.4-.4-.92-.59-1.43-.59-.52 0-1.04.2-1.43.59L10.3 9.45l-7.72 7.72c-.78.78-.78 2.05 0 2.83L4 21.41c.39.39.9.59 1.41.59.51 0 1.02-.2 1.41-.59l7.78-7.78 2.81-2.81c.8-.78.8-2.07 0-2.86zM5.41 20L4 18.59l7.72-7.72 1.47 1.35L5.41 20z\"/>\n",
              "  </svg>\n",
              "      </button>\n",
              "      \n",
              "  <style>\n",
              "    .colab-df-container {\n",
              "      display:flex;\n",
              "      flex-wrap:wrap;\n",
              "      gap: 12px;\n",
              "    }\n",
              "\n",
              "    .colab-df-convert {\n",
              "      background-color: #E8F0FE;\n",
              "      border: none;\n",
              "      border-radius: 50%;\n",
              "      cursor: pointer;\n",
              "      display: none;\n",
              "      fill: #1967D2;\n",
              "      height: 32px;\n",
              "      padding: 0 0 0 0;\n",
              "      width: 32px;\n",
              "    }\n",
              "\n",
              "    .colab-df-convert:hover {\n",
              "      background-color: #E2EBFA;\n",
              "      box-shadow: 0px 1px 2px rgba(60, 64, 67, 0.3), 0px 1px 3px 1px rgba(60, 64, 67, 0.15);\n",
              "      fill: #174EA6;\n",
              "    }\n",
              "\n",
              "    [theme=dark] .colab-df-convert {\n",
              "      background-color: #3B4455;\n",
              "      fill: #D2E3FC;\n",
              "    }\n",
              "\n",
              "    [theme=dark] .colab-df-convert:hover {\n",
              "      background-color: #434B5C;\n",
              "      box-shadow: 0px 1px 3px 1px rgba(0, 0, 0, 0.15);\n",
              "      filter: drop-shadow(0px 1px 2px rgba(0, 0, 0, 0.3));\n",
              "      fill: #FFFFFF;\n",
              "    }\n",
              "  </style>\n",
              "\n",
              "      <script>\n",
              "        const buttonEl =\n",
              "          document.querySelector('#df-6ef18109-c8c8-4e56-8caf-4cc1dc2b0922 button.colab-df-convert');\n",
              "        buttonEl.style.display =\n",
              "          google.colab.kernel.accessAllowed ? 'block' : 'none';\n",
              "\n",
              "        async function convertToInteractive(key) {\n",
              "          const element = document.querySelector('#df-6ef18109-c8c8-4e56-8caf-4cc1dc2b0922');\n",
              "          const dataTable =\n",
              "            await google.colab.kernel.invokeFunction('convertToInteractive',\n",
              "                                                     [key], {});\n",
              "          if (!dataTable) return;\n",
              "\n",
              "          const docLinkHtml = 'Like what you see? Visit the ' +\n",
              "            '<a target=\"_blank\" href=https://colab.research.google.com/notebooks/data_table.ipynb>data table notebook</a>'\n",
              "            + ' to learn more about interactive tables.';\n",
              "          element.innerHTML = '';\n",
              "          dataTable['output_type'] = 'display_data';\n",
              "          await google.colab.output.renderOutput(dataTable, element);\n",
              "          const docLink = document.createElement('div');\n",
              "          docLink.innerHTML = docLinkHtml;\n",
              "          element.appendChild(docLink);\n",
              "        }\n",
              "      </script>\n",
              "    </div>\n",
              "  </div>\n",
              "  "
            ]
          },
          "metadata": {},
          "execution_count": 17
        }
      ]
    },
    {
      "cell_type": "code",
      "source": [
        "dataset.info()"
      ],
      "metadata": {
        "colab": {
          "base_uri": "https://localhost:8080/"
        },
        "id": "ut8GYwS2KlYh",
        "outputId": "5933057b-b935-4241-d3d9-4b69d5b6e54c"
      },
      "execution_count": null,
      "outputs": [
        {
          "output_type": "stream",
          "name": "stdout",
          "text": [
            "<class 'pandas.core.frame.DataFrame'>\n",
            "RangeIndex: 848 entries, 0 to 847\n",
            "Data columns (total 4 columns):\n",
            " #   Column         Non-Null Count  Dtype  \n",
            "---  ------         --------------  -----  \n",
            " 0   work_year      848 non-null    int64  \n",
            " 1   salary         848 non-null    int64  \n",
            " 2   salary_in_usd  845 non-null    float64\n",
            " 3   remote_ratio   848 non-null    int64  \n",
            "dtypes: float64(1), int64(3)\n",
            "memory usage: 26.6 KB\n"
          ]
        }
      ]
    },
    {
      "cell_type": "code",
      "source": [
        "dataset.describe()"
      ],
      "metadata": {
        "colab": {
          "base_uri": "https://localhost:8080/",
          "height": 300
        },
        "id": "gTd1fOvvKqXP",
        "outputId": "cf8214e6-db9c-4b98-f248-b42dec6a2976"
      },
      "execution_count": null,
      "outputs": [
        {
          "output_type": "execute_result",
          "data": {
            "text/plain": [
              "         work_year        salary  salary_in_usd  remote_ratio\n",
              "count   848.000000  8.480000e+02     845.000000    848.000000\n",
              "mean   2021.770047  7.353011e+05  130531.169231     76.650943\n",
              "std       0.461197  1.716552e+07   70001.890839     38.686960\n",
              "min    2020.000000  2.000000e+03    2000.000000      0.000000\n",
              "25%    2022.000000  9.000000e+04   85000.000000     50.000000\n",
              "50%    2022.000000  1.300000e+05  125000.000000    100.000000\n",
              "75%    2022.000000  1.720000e+05  165000.000000    100.000000\n",
              "max    2022.000000  5.000000e+08  899920.000000    100.000000"
            ],
            "text/html": [
              "\n",
              "  <div id=\"df-6cb4021d-9456-44fe-a28b-b6d556a8fac4\">\n",
              "    <div class=\"colab-df-container\">\n",
              "      <div>\n",
              "<style scoped>\n",
              "    .dataframe tbody tr th:only-of-type {\n",
              "        vertical-align: middle;\n",
              "    }\n",
              "\n",
              "    .dataframe tbody tr th {\n",
              "        vertical-align: top;\n",
              "    }\n",
              "\n",
              "    .dataframe thead th {\n",
              "        text-align: right;\n",
              "    }\n",
              "</style>\n",
              "<table border=\"1\" class=\"dataframe\">\n",
              "  <thead>\n",
              "    <tr style=\"text-align: right;\">\n",
              "      <th></th>\n",
              "      <th>work_year</th>\n",
              "      <th>salary</th>\n",
              "      <th>salary_in_usd</th>\n",
              "      <th>remote_ratio</th>\n",
              "    </tr>\n",
              "  </thead>\n",
              "  <tbody>\n",
              "    <tr>\n",
              "      <th>count</th>\n",
              "      <td>848.000000</td>\n",
              "      <td>8.480000e+02</td>\n",
              "      <td>845.000000</td>\n",
              "      <td>848.000000</td>\n",
              "    </tr>\n",
              "    <tr>\n",
              "      <th>mean</th>\n",
              "      <td>2021.770047</td>\n",
              "      <td>7.353011e+05</td>\n",
              "      <td>130531.169231</td>\n",
              "      <td>76.650943</td>\n",
              "    </tr>\n",
              "    <tr>\n",
              "      <th>std</th>\n",
              "      <td>0.461197</td>\n",
              "      <td>1.716552e+07</td>\n",
              "      <td>70001.890839</td>\n",
              "      <td>38.686960</td>\n",
              "    </tr>\n",
              "    <tr>\n",
              "      <th>min</th>\n",
              "      <td>2020.000000</td>\n",
              "      <td>2.000000e+03</td>\n",
              "      <td>2000.000000</td>\n",
              "      <td>0.000000</td>\n",
              "    </tr>\n",
              "    <tr>\n",
              "      <th>25%</th>\n",
              "      <td>2022.000000</td>\n",
              "      <td>9.000000e+04</td>\n",
              "      <td>85000.000000</td>\n",
              "      <td>50.000000</td>\n",
              "    </tr>\n",
              "    <tr>\n",
              "      <th>50%</th>\n",
              "      <td>2022.000000</td>\n",
              "      <td>1.300000e+05</td>\n",
              "      <td>125000.000000</td>\n",
              "      <td>100.000000</td>\n",
              "    </tr>\n",
              "    <tr>\n",
              "      <th>75%</th>\n",
              "      <td>2022.000000</td>\n",
              "      <td>1.720000e+05</td>\n",
              "      <td>165000.000000</td>\n",
              "      <td>100.000000</td>\n",
              "    </tr>\n",
              "    <tr>\n",
              "      <th>max</th>\n",
              "      <td>2022.000000</td>\n",
              "      <td>5.000000e+08</td>\n",
              "      <td>899920.000000</td>\n",
              "      <td>100.000000</td>\n",
              "    </tr>\n",
              "  </tbody>\n",
              "</table>\n",
              "</div>\n",
              "      <button class=\"colab-df-convert\" onclick=\"convertToInteractive('df-6cb4021d-9456-44fe-a28b-b6d556a8fac4')\"\n",
              "              title=\"Convert this dataframe to an interactive table.\"\n",
              "              style=\"display:none;\">\n",
              "        \n",
              "  <svg xmlns=\"http://www.w3.org/2000/svg\" height=\"24px\"viewBox=\"0 0 24 24\"\n",
              "       width=\"24px\">\n",
              "    <path d=\"M0 0h24v24H0V0z\" fill=\"none\"/>\n",
              "    <path d=\"M18.56 5.44l.94 2.06.94-2.06 2.06-.94-2.06-.94-.94-2.06-.94 2.06-2.06.94zm-11 1L8.5 8.5l.94-2.06 2.06-.94-2.06-.94L8.5 2.5l-.94 2.06-2.06.94zm10 10l.94 2.06.94-2.06 2.06-.94-2.06-.94-.94-2.06-.94 2.06-2.06.94z\"/><path d=\"M17.41 7.96l-1.37-1.37c-.4-.4-.92-.59-1.43-.59-.52 0-1.04.2-1.43.59L10.3 9.45l-7.72 7.72c-.78.78-.78 2.05 0 2.83L4 21.41c.39.39.9.59 1.41.59.51 0 1.02-.2 1.41-.59l7.78-7.78 2.81-2.81c.8-.78.8-2.07 0-2.86zM5.41 20L4 18.59l7.72-7.72 1.47 1.35L5.41 20z\"/>\n",
              "  </svg>\n",
              "      </button>\n",
              "      \n",
              "  <style>\n",
              "    .colab-df-container {\n",
              "      display:flex;\n",
              "      flex-wrap:wrap;\n",
              "      gap: 12px;\n",
              "    }\n",
              "\n",
              "    .colab-df-convert {\n",
              "      background-color: #E8F0FE;\n",
              "      border: none;\n",
              "      border-radius: 50%;\n",
              "      cursor: pointer;\n",
              "      display: none;\n",
              "      fill: #1967D2;\n",
              "      height: 32px;\n",
              "      padding: 0 0 0 0;\n",
              "      width: 32px;\n",
              "    }\n",
              "\n",
              "    .colab-df-convert:hover {\n",
              "      background-color: #E2EBFA;\n",
              "      box-shadow: 0px 1px 2px rgba(60, 64, 67, 0.3), 0px 1px 3px 1px rgba(60, 64, 67, 0.15);\n",
              "      fill: #174EA6;\n",
              "    }\n",
              "\n",
              "    [theme=dark] .colab-df-convert {\n",
              "      background-color: #3B4455;\n",
              "      fill: #D2E3FC;\n",
              "    }\n",
              "\n",
              "    [theme=dark] .colab-df-convert:hover {\n",
              "      background-color: #434B5C;\n",
              "      box-shadow: 0px 1px 3px 1px rgba(0, 0, 0, 0.15);\n",
              "      filter: drop-shadow(0px 1px 2px rgba(0, 0, 0, 0.3));\n",
              "      fill: #FFFFFF;\n",
              "    }\n",
              "  </style>\n",
              "\n",
              "      <script>\n",
              "        const buttonEl =\n",
              "          document.querySelector('#df-6cb4021d-9456-44fe-a28b-b6d556a8fac4 button.colab-df-convert');\n",
              "        buttonEl.style.display =\n",
              "          google.colab.kernel.accessAllowed ? 'block' : 'none';\n",
              "\n",
              "        async function convertToInteractive(key) {\n",
              "          const element = document.querySelector('#df-6cb4021d-9456-44fe-a28b-b6d556a8fac4');\n",
              "          const dataTable =\n",
              "            await google.colab.kernel.invokeFunction('convertToInteractive',\n",
              "                                                     [key], {});\n",
              "          if (!dataTable) return;\n",
              "\n",
              "          const docLinkHtml = 'Like what you see? Visit the ' +\n",
              "            '<a target=\"_blank\" href=https://colab.research.google.com/notebooks/data_table.ipynb>data table notebook</a>'\n",
              "            + ' to learn more about interactive tables.';\n",
              "          element.innerHTML = '';\n",
              "          dataTable['output_type'] = 'display_data';\n",
              "          await google.colab.output.renderOutput(dataTable, element);\n",
              "          const docLink = document.createElement('div');\n",
              "          docLink.innerHTML = docLinkHtml;\n",
              "          element.appendChild(docLink);\n",
              "        }\n",
              "      </script>\n",
              "    </div>\n",
              "  </div>\n",
              "  "
            ]
          },
          "metadata": {},
          "execution_count": 19
        }
      ]
    },
    {
      "cell_type": "code",
      "source": [
        "dataset.shape"
      ],
      "metadata": {
        "colab": {
          "base_uri": "https://localhost:8080/"
        },
        "id": "v0XgZc74Kv_D",
        "outputId": "7a8ad425-c482-4b0b-c0c2-838275b0fcae"
      },
      "execution_count": null,
      "outputs": [
        {
          "output_type": "execute_result",
          "data": {
            "text/plain": [
              "(848, 4)"
            ]
          },
          "metadata": {},
          "execution_count": 20
        }
      ]
    },
    {
      "cell_type": "code",
      "source": [
        "dataset.isnull().sum()"
      ],
      "metadata": {
        "colab": {
          "base_uri": "https://localhost:8080/"
        },
        "id": "XymFxEicK1kH",
        "outputId": "a644904d-99d6-426b-e9ab-95040c4da36c"
      },
      "execution_count": null,
      "outputs": [
        {
          "output_type": "execute_result",
          "data": {
            "text/plain": [
              "work_year        0\n",
              "salary           0\n",
              "salary_in_usd    3\n",
              "remote_ratio     0\n",
              "dtype: int64"
            ]
          },
          "metadata": {},
          "execution_count": 21
        }
      ]
    },
    {
      "cell_type": "markdown",
      "source": [
        "Terdapat Missing Value pada dataset ini yakni pada kolom salary_in_usd"
      ],
      "metadata": {
        "id": "i3zE144YLA8E"
      }
    },
    {
      "cell_type": "markdown",
      "source": [
        "# **Data Preparation and Cleaning**\n"
      ],
      "metadata": {
        "id": "cRQ1GlvXLGiQ"
      }
    },
    {
      "cell_type": "markdown",
      "source": [
        "Delete Rows that contain Missing Value"
      ],
      "metadata": {
        "id": "UHyDURc6OChd"
      }
    },
    {
      "cell_type": "code",
      "source": [
        "df = df.dropna(axis=0)\n",
        "df"
      ],
      "metadata": {
        "colab": {
          "base_uri": "https://localhost:8080/",
          "height": 424
        },
        "id": "_wGUqK8fLFns",
        "outputId": "f785a6dd-e287-4502-9b0b-d835fb75ae89"
      },
      "execution_count": null,
      "outputs": [
        {
          "output_type": "execute_result",
          "data": {
            "text/plain": [
              "     work_year   salary  salary_in_usd  remote_ratio\n",
              "0         2022    68000        72762.0           100\n",
              "1         2022   123400       123400.0             0\n",
              "2         2022    88100        88100.0             0\n",
              "3         2022   163575       163575.0           100\n",
              "7         2022   109280       109280.0           100\n",
              "..         ...      ...            ...           ...\n",
              "843       2021    50000        50000.0             0\n",
              "844       2021    45000        61896.0           100\n",
              "845       2021   150000       177308.0           100\n",
              "846       2021  1000000        13523.0            50\n",
              "847       2021    35000        48141.0           100\n",
              "\n",
              "[845 rows x 4 columns]"
            ],
            "text/html": [
              "\n",
              "  <div id=\"df-85ac2fa6-3902-4c09-8689-1e4ce3a89110\">\n",
              "    <div class=\"colab-df-container\">\n",
              "      <div>\n",
              "<style scoped>\n",
              "    .dataframe tbody tr th:only-of-type {\n",
              "        vertical-align: middle;\n",
              "    }\n",
              "\n",
              "    .dataframe tbody tr th {\n",
              "        vertical-align: top;\n",
              "    }\n",
              "\n",
              "    .dataframe thead th {\n",
              "        text-align: right;\n",
              "    }\n",
              "</style>\n",
              "<table border=\"1\" class=\"dataframe\">\n",
              "  <thead>\n",
              "    <tr style=\"text-align: right;\">\n",
              "      <th></th>\n",
              "      <th>work_year</th>\n",
              "      <th>salary</th>\n",
              "      <th>salary_in_usd</th>\n",
              "      <th>remote_ratio</th>\n",
              "    </tr>\n",
              "  </thead>\n",
              "  <tbody>\n",
              "    <tr>\n",
              "      <th>0</th>\n",
              "      <td>2022</td>\n",
              "      <td>68000</td>\n",
              "      <td>72762.0</td>\n",
              "      <td>100</td>\n",
              "    </tr>\n",
              "    <tr>\n",
              "      <th>1</th>\n",
              "      <td>2022</td>\n",
              "      <td>123400</td>\n",
              "      <td>123400.0</td>\n",
              "      <td>0</td>\n",
              "    </tr>\n",
              "    <tr>\n",
              "      <th>2</th>\n",
              "      <td>2022</td>\n",
              "      <td>88100</td>\n",
              "      <td>88100.0</td>\n",
              "      <td>0</td>\n",
              "    </tr>\n",
              "    <tr>\n",
              "      <th>3</th>\n",
              "      <td>2022</td>\n",
              "      <td>163575</td>\n",
              "      <td>163575.0</td>\n",
              "      <td>100</td>\n",
              "    </tr>\n",
              "    <tr>\n",
              "      <th>7</th>\n",
              "      <td>2022</td>\n",
              "      <td>109280</td>\n",
              "      <td>109280.0</td>\n",
              "      <td>100</td>\n",
              "    </tr>\n",
              "    <tr>\n",
              "      <th>...</th>\n",
              "      <td>...</td>\n",
              "      <td>...</td>\n",
              "      <td>...</td>\n",
              "      <td>...</td>\n",
              "    </tr>\n",
              "    <tr>\n",
              "      <th>843</th>\n",
              "      <td>2021</td>\n",
              "      <td>50000</td>\n",
              "      <td>50000.0</td>\n",
              "      <td>0</td>\n",
              "    </tr>\n",
              "    <tr>\n",
              "      <th>844</th>\n",
              "      <td>2021</td>\n",
              "      <td>45000</td>\n",
              "      <td>61896.0</td>\n",
              "      <td>100</td>\n",
              "    </tr>\n",
              "    <tr>\n",
              "      <th>845</th>\n",
              "      <td>2021</td>\n",
              "      <td>150000</td>\n",
              "      <td>177308.0</td>\n",
              "      <td>100</td>\n",
              "    </tr>\n",
              "    <tr>\n",
              "      <th>846</th>\n",
              "      <td>2021</td>\n",
              "      <td>1000000</td>\n",
              "      <td>13523.0</td>\n",
              "      <td>50</td>\n",
              "    </tr>\n",
              "    <tr>\n",
              "      <th>847</th>\n",
              "      <td>2021</td>\n",
              "      <td>35000</td>\n",
              "      <td>48141.0</td>\n",
              "      <td>100</td>\n",
              "    </tr>\n",
              "  </tbody>\n",
              "</table>\n",
              "<p>845 rows × 4 columns</p>\n",
              "</div>\n",
              "      <button class=\"colab-df-convert\" onclick=\"convertToInteractive('df-85ac2fa6-3902-4c09-8689-1e4ce3a89110')\"\n",
              "              title=\"Convert this dataframe to an interactive table.\"\n",
              "              style=\"display:none;\">\n",
              "        \n",
              "  <svg xmlns=\"http://www.w3.org/2000/svg\" height=\"24px\"viewBox=\"0 0 24 24\"\n",
              "       width=\"24px\">\n",
              "    <path d=\"M0 0h24v24H0V0z\" fill=\"none\"/>\n",
              "    <path d=\"M18.56 5.44l.94 2.06.94-2.06 2.06-.94-2.06-.94-.94-2.06-.94 2.06-2.06.94zm-11 1L8.5 8.5l.94-2.06 2.06-.94-2.06-.94L8.5 2.5l-.94 2.06-2.06.94zm10 10l.94 2.06.94-2.06 2.06-.94-2.06-.94-.94-2.06-.94 2.06-2.06.94z\"/><path d=\"M17.41 7.96l-1.37-1.37c-.4-.4-.92-.59-1.43-.59-.52 0-1.04.2-1.43.59L10.3 9.45l-7.72 7.72c-.78.78-.78 2.05 0 2.83L4 21.41c.39.39.9.59 1.41.59.51 0 1.02-.2 1.41-.59l7.78-7.78 2.81-2.81c.8-.78.8-2.07 0-2.86zM5.41 20L4 18.59l7.72-7.72 1.47 1.35L5.41 20z\"/>\n",
              "  </svg>\n",
              "      </button>\n",
              "      \n",
              "  <style>\n",
              "    .colab-df-container {\n",
              "      display:flex;\n",
              "      flex-wrap:wrap;\n",
              "      gap: 12px;\n",
              "    }\n",
              "\n",
              "    .colab-df-convert {\n",
              "      background-color: #E8F0FE;\n",
              "      border: none;\n",
              "      border-radius: 50%;\n",
              "      cursor: pointer;\n",
              "      display: none;\n",
              "      fill: #1967D2;\n",
              "      height: 32px;\n",
              "      padding: 0 0 0 0;\n",
              "      width: 32px;\n",
              "    }\n",
              "\n",
              "    .colab-df-convert:hover {\n",
              "      background-color: #E2EBFA;\n",
              "      box-shadow: 0px 1px 2px rgba(60, 64, 67, 0.3), 0px 1px 3px 1px rgba(60, 64, 67, 0.15);\n",
              "      fill: #174EA6;\n",
              "    }\n",
              "\n",
              "    [theme=dark] .colab-df-convert {\n",
              "      background-color: #3B4455;\n",
              "      fill: #D2E3FC;\n",
              "    }\n",
              "\n",
              "    [theme=dark] .colab-df-convert:hover {\n",
              "      background-color: #434B5C;\n",
              "      box-shadow: 0px 1px 3px 1px rgba(0, 0, 0, 0.15);\n",
              "      filter: drop-shadow(0px 1px 2px rgba(0, 0, 0, 0.3));\n",
              "      fill: #FFFFFF;\n",
              "    }\n",
              "  </style>\n",
              "\n",
              "      <script>\n",
              "        const buttonEl =\n",
              "          document.querySelector('#df-85ac2fa6-3902-4c09-8689-1e4ce3a89110 button.colab-df-convert');\n",
              "        buttonEl.style.display =\n",
              "          google.colab.kernel.accessAllowed ? 'block' : 'none';\n",
              "\n",
              "        async function convertToInteractive(key) {\n",
              "          const element = document.querySelector('#df-85ac2fa6-3902-4c09-8689-1e4ce3a89110');\n",
              "          const dataTable =\n",
              "            await google.colab.kernel.invokeFunction('convertToInteractive',\n",
              "                                                     [key], {});\n",
              "          if (!dataTable) return;\n",
              "\n",
              "          const docLinkHtml = 'Like what you see? Visit the ' +\n",
              "            '<a target=\"_blank\" href=https://colab.research.google.com/notebooks/data_table.ipynb>data table notebook</a>'\n",
              "            + ' to learn more about interactive tables.';\n",
              "          element.innerHTML = '';\n",
              "          dataTable['output_type'] = 'display_data';\n",
              "          await google.colab.output.renderOutput(dataTable, element);\n",
              "          const docLink = document.createElement('div');\n",
              "          docLink.innerHTML = docLinkHtml;\n",
              "          element.appendChild(docLink);\n",
              "        }\n",
              "      </script>\n",
              "    </div>\n",
              "  </div>\n",
              "  "
            ]
          },
          "metadata": {},
          "execution_count": 22
        }
      ]
    },
    {
      "cell_type": "markdown",
      "source": [
        "Dari operasi diatas, kita berhasil menghapus 3 rows yang mengandung Missing Value"
      ],
      "metadata": {
        "id": "F4eAGV6qOPwz"
      }
    },
    {
      "cell_type": "markdown",
      "source": [
        "# **Data Encoding**\n",
        "Encode object value to numerical\n",
        "\n",
        "**Namun pada dataset cyberjob_salaries.csv tidak perlu diencode karena tidak ada object value di dalamnya**"
      ],
      "metadata": {
        "id": "rgNMFcACOYC6"
      }
    },
    {
      "cell_type": "markdown",
      "source": [
        "# **Algorithm, Modeling, and Evaluation**\n",
        "\n",
        "Using KNN Algorithm and Evaluation in Accuracy, Precision, Recall, F1 Score"
      ],
      "metadata": {
        "id": "vacKKf3-O2y1"
      }
    },
    {
      "cell_type": "code",
      "source": [
        "import numpy as np # linear algebra\n",
        "from matplotlib.colors import ListedColormap\n",
        "from sklearn import dataset, neighbors\n",
        "from mlxtend.plotting import plot_decision_regions"
      ],
      "metadata": {
        "id": "RoQAYBOhP4de"
      },
      "execution_count": null,
      "outputs": []
    },
    {
      "cell_type": "code",
      "source": [
        "df.head(10)"
      ],
      "metadata": {
        "colab": {
          "base_uri": "https://localhost:8080/",
          "height": 363
        },
        "id": "wUrhi5YOP5Pk",
        "outputId": "aa08a176-4423-4372-dafa-fee82ef5b5d3"
      },
      "execution_count": null,
      "outputs": [
        {
          "output_type": "execute_result",
          "data": {
            "text/plain": [
              "    work_year  salary  salary_in_usd  remote_ratio\n",
              "0        2022   68000        72762.0           100\n",
              "1        2022  123400       123400.0             0\n",
              "2        2022   88100        88100.0             0\n",
              "3        2022  163575       163575.0           100\n",
              "7        2022  109280       109280.0           100\n",
              "8        2022  211600       211600.0           100\n",
              "9        2022  182160       182160.0           100\n",
              "10       2022  211600       211600.0           100\n",
              "11       2022  182160       182160.0           100\n",
              "12       2022  145000       145000.0           100"
            ],
            "text/html": [
              "\n",
              "  <div id=\"df-bb470e9c-d3ad-443c-a8b8-92ece1d52616\">\n",
              "    <div class=\"colab-df-container\">\n",
              "      <div>\n",
              "<style scoped>\n",
              "    .dataframe tbody tr th:only-of-type {\n",
              "        vertical-align: middle;\n",
              "    }\n",
              "\n",
              "    .dataframe tbody tr th {\n",
              "        vertical-align: top;\n",
              "    }\n",
              "\n",
              "    .dataframe thead th {\n",
              "        text-align: right;\n",
              "    }\n",
              "</style>\n",
              "<table border=\"1\" class=\"dataframe\">\n",
              "  <thead>\n",
              "    <tr style=\"text-align: right;\">\n",
              "      <th></th>\n",
              "      <th>work_year</th>\n",
              "      <th>salary</th>\n",
              "      <th>salary_in_usd</th>\n",
              "      <th>remote_ratio</th>\n",
              "    </tr>\n",
              "  </thead>\n",
              "  <tbody>\n",
              "    <tr>\n",
              "      <th>0</th>\n",
              "      <td>2022</td>\n",
              "      <td>68000</td>\n",
              "      <td>72762.0</td>\n",
              "      <td>100</td>\n",
              "    </tr>\n",
              "    <tr>\n",
              "      <th>1</th>\n",
              "      <td>2022</td>\n",
              "      <td>123400</td>\n",
              "      <td>123400.0</td>\n",
              "      <td>0</td>\n",
              "    </tr>\n",
              "    <tr>\n",
              "      <th>2</th>\n",
              "      <td>2022</td>\n",
              "      <td>88100</td>\n",
              "      <td>88100.0</td>\n",
              "      <td>0</td>\n",
              "    </tr>\n",
              "    <tr>\n",
              "      <th>3</th>\n",
              "      <td>2022</td>\n",
              "      <td>163575</td>\n",
              "      <td>163575.0</td>\n",
              "      <td>100</td>\n",
              "    </tr>\n",
              "    <tr>\n",
              "      <th>7</th>\n",
              "      <td>2022</td>\n",
              "      <td>109280</td>\n",
              "      <td>109280.0</td>\n",
              "      <td>100</td>\n",
              "    </tr>\n",
              "    <tr>\n",
              "      <th>8</th>\n",
              "      <td>2022</td>\n",
              "      <td>211600</td>\n",
              "      <td>211600.0</td>\n",
              "      <td>100</td>\n",
              "    </tr>\n",
              "    <tr>\n",
              "      <th>9</th>\n",
              "      <td>2022</td>\n",
              "      <td>182160</td>\n",
              "      <td>182160.0</td>\n",
              "      <td>100</td>\n",
              "    </tr>\n",
              "    <tr>\n",
              "      <th>10</th>\n",
              "      <td>2022</td>\n",
              "      <td>211600</td>\n",
              "      <td>211600.0</td>\n",
              "      <td>100</td>\n",
              "    </tr>\n",
              "    <tr>\n",
              "      <th>11</th>\n",
              "      <td>2022</td>\n",
              "      <td>182160</td>\n",
              "      <td>182160.0</td>\n",
              "      <td>100</td>\n",
              "    </tr>\n",
              "    <tr>\n",
              "      <th>12</th>\n",
              "      <td>2022</td>\n",
              "      <td>145000</td>\n",
              "      <td>145000.0</td>\n",
              "      <td>100</td>\n",
              "    </tr>\n",
              "  </tbody>\n",
              "</table>\n",
              "</div>\n",
              "      <button class=\"colab-df-convert\" onclick=\"convertToInteractive('df-bb470e9c-d3ad-443c-a8b8-92ece1d52616')\"\n",
              "              title=\"Convert this dataframe to an interactive table.\"\n",
              "              style=\"display:none;\">\n",
              "        \n",
              "  <svg xmlns=\"http://www.w3.org/2000/svg\" height=\"24px\"viewBox=\"0 0 24 24\"\n",
              "       width=\"24px\">\n",
              "    <path d=\"M0 0h24v24H0V0z\" fill=\"none\"/>\n",
              "    <path d=\"M18.56 5.44l.94 2.06.94-2.06 2.06-.94-2.06-.94-.94-2.06-.94 2.06-2.06.94zm-11 1L8.5 8.5l.94-2.06 2.06-.94-2.06-.94L8.5 2.5l-.94 2.06-2.06.94zm10 10l.94 2.06.94-2.06 2.06-.94-2.06-.94-.94-2.06-.94 2.06-2.06.94z\"/><path d=\"M17.41 7.96l-1.37-1.37c-.4-.4-.92-.59-1.43-.59-.52 0-1.04.2-1.43.59L10.3 9.45l-7.72 7.72c-.78.78-.78 2.05 0 2.83L4 21.41c.39.39.9.59 1.41.59.51 0 1.02-.2 1.41-.59l7.78-7.78 2.81-2.81c.8-.78.8-2.07 0-2.86zM5.41 20L4 18.59l7.72-7.72 1.47 1.35L5.41 20z\"/>\n",
              "  </svg>\n",
              "      </button>\n",
              "      \n",
              "  <style>\n",
              "    .colab-df-container {\n",
              "      display:flex;\n",
              "      flex-wrap:wrap;\n",
              "      gap: 12px;\n",
              "    }\n",
              "\n",
              "    .colab-df-convert {\n",
              "      background-color: #E8F0FE;\n",
              "      border: none;\n",
              "      border-radius: 50%;\n",
              "      cursor: pointer;\n",
              "      display: none;\n",
              "      fill: #1967D2;\n",
              "      height: 32px;\n",
              "      padding: 0 0 0 0;\n",
              "      width: 32px;\n",
              "    }\n",
              "\n",
              "    .colab-df-convert:hover {\n",
              "      background-color: #E2EBFA;\n",
              "      box-shadow: 0px 1px 2px rgba(60, 64, 67, 0.3), 0px 1px 3px 1px rgba(60, 64, 67, 0.15);\n",
              "      fill: #174EA6;\n",
              "    }\n",
              "\n",
              "    [theme=dark] .colab-df-convert {\n",
              "      background-color: #3B4455;\n",
              "      fill: #D2E3FC;\n",
              "    }\n",
              "\n",
              "    [theme=dark] .colab-df-convert:hover {\n",
              "      background-color: #434B5C;\n",
              "      box-shadow: 0px 1px 3px 1px rgba(0, 0, 0, 0.15);\n",
              "      filter: drop-shadow(0px 1px 2px rgba(0, 0, 0, 0.3));\n",
              "      fill: #FFFFFF;\n",
              "    }\n",
              "  </style>\n",
              "\n",
              "      <script>\n",
              "        const buttonEl =\n",
              "          document.querySelector('#df-bb470e9c-d3ad-443c-a8b8-92ece1d52616 button.colab-df-convert');\n",
              "        buttonEl.style.display =\n",
              "          google.colab.kernel.accessAllowed ? 'block' : 'none';\n",
              "\n",
              "        async function convertToInteractive(key) {\n",
              "          const element = document.querySelector('#df-bb470e9c-d3ad-443c-a8b8-92ece1d52616');\n",
              "          const dataTable =\n",
              "            await google.colab.kernel.invokeFunction('convertToInteractive',\n",
              "                                                     [key], {});\n",
              "          if (!dataTable) return;\n",
              "\n",
              "          const docLinkHtml = 'Like what you see? Visit the ' +\n",
              "            '<a target=\"_blank\" href=https://colab.research.google.com/notebooks/data_table.ipynb>data table notebook</a>'\n",
              "            + ' to learn more about interactive tables.';\n",
              "          element.innerHTML = '';\n",
              "          dataTable['output_type'] = 'display_data';\n",
              "          await google.colab.output.renderOutput(dataTable, element);\n",
              "          const docLink = document.createElement('div');\n",
              "          docLink.innerHTML = docLinkHtml;\n",
              "          element.appendChild(docLink);\n",
              "        }\n",
              "      </script>\n",
              "    </div>\n",
              "  </div>\n",
              "  "
            ]
          },
          "metadata": {},
          "execution_count": 25
        }
      ]
    },
    {
      "cell_type": "code",
      "source": [
        "# Data Modelling\n",
        "import seaborn as sns\n",
        "sns.pairplot(df)"
      ],
      "metadata": {
        "colab": {
          "base_uri": "https://localhost:8080/",
          "height": 743
        },
        "id": "3hZspCYqQAL8",
        "outputId": "9546573f-5ffc-4446-8479-e332eeaa1949"
      },
      "execution_count": null,
      "outputs": [
        {
          "output_type": "execute_result",
          "data": {
            "text/plain": [
              "<seaborn.axisgrid.PairGrid at 0x7fd681497e10>"
            ]
          },
          "metadata": {},
          "execution_count": 26
        },
        {
          "output_type": "display_data",
          "data": {
            "text/plain": [
              "<Figure size 720x720 with 20 Axes>"
            ],
            "image/png": "[encoded data removed]"
          },
          "metadata": {
            "needs_background": "light"
          }
        }
      ]
    },
    {
      "cell_type": "code",
      "source": [
        "# Dependent Variable\n",
        "y = df[\"remote_ratio\"]\n",
        "# Independent Variable\n",
        "x = df.drop([\"remote_ratio\"], axis = 1)\n",
        "x.head()"
      ],
      "metadata": {
        "colab": {
          "base_uri": "https://localhost:8080/",
          "height": 206
        },
        "id": "go9kcvD-QVeR",
        "outputId": "58f441ca-c377-4ee8-90b3-1c4028255dfb"
      },
      "execution_count": null,
      "outputs": [
        {
          "output_type": "execute_result",
          "data": {
            "text/plain": [
              "   work_year  salary  salary_in_usd\n",
              "0       2022   68000        72762.0\n",
              "1       2022  123400       123400.0\n",
              "2       2022   88100        88100.0\n",
              "3       2022  163575       163575.0\n",
              "7       2022  109280       109280.0"
            ],
            "text/html": [
              "\n",
              "  <div id=\"df-464d3855-ba2f-4d0b-b746-d0c936e08bb9\">\n",
              "    <div class=\"colab-df-container\">\n",
              "      <div>\n",
              "<style scoped>\n",
              "    .dataframe tbody tr th:only-of-type {\n",
              "        vertical-align: middle;\n",
              "    }\n",
              "\n",
              "    .dataframe tbody tr th {\n",
              "        vertical-align: top;\n",
              "    }\n",
              "\n",
              "    .dataframe thead th {\n",
              "        text-align: right;\n",
              "    }\n",
              "</style>\n",
              "<table border=\"1\" class=\"dataframe\">\n",
              "  <thead>\n",
              "    <tr style=\"text-align: right;\">\n",
              "      <th></th>\n",
              "      <th>work_year</th>\n",
              "      <th>salary</th>\n",
              "      <th>salary_in_usd</th>\n",
              "    </tr>\n",
              "  </thead>\n",
              "  <tbody>\n",
              "    <tr>\n",
              "      <th>0</th>\n",
              "      <td>2022</td>\n",
              "      <td>68000</td>\n",
              "      <td>72762.0</td>\n",
              "    </tr>\n",
              "    <tr>\n",
              "      <th>1</th>\n",
              "      <td>2022</td>\n",
              "      <td>123400</td>\n",
              "      <td>123400.0</td>\n",
              "    </tr>\n",
              "    <tr>\n",
              "      <th>2</th>\n",
              "      <td>2022</td>\n",
              "      <td>88100</td>\n",
              "      <td>88100.0</td>\n",
              "    </tr>\n",
              "    <tr>\n",
              "      <th>3</th>\n",
              "      <td>2022</td>\n",
              "      <td>163575</td>\n",
              "      <td>163575.0</td>\n",
              "    </tr>\n",
              "    <tr>\n",
              "      <th>7</th>\n",
              "      <td>2022</td>\n",
              "      <td>109280</td>\n",
              "      <td>109280.0</td>\n",
              "    </tr>\n",
              "  </tbody>\n",
              "</table>\n",
              "</div>\n",
              "      <button class=\"colab-df-convert\" onclick=\"convertToInteractive('df-464d3855-ba2f-4d0b-b746-d0c936e08bb9')\"\n",
              "              title=\"Convert this dataframe to an interactive table.\"\n",
              "              style=\"display:none;\">\n",
              "        \n",
              "  <svg xmlns=\"http://www.w3.org/2000/svg\" height=\"24px\"viewBox=\"0 0 24 24\"\n",
              "       width=\"24px\">\n",
              "    <path d=\"M0 0h24v24H0V0z\" fill=\"none\"/>\n",
              "    <path d=\"M18.56 5.44l.94 2.06.94-2.06 2.06-.94-2.06-.94-.94-2.06-.94 2.06-2.06.94zm-11 1L8.5 8.5l.94-2.06 2.06-.94-2.06-.94L8.5 2.5l-.94 2.06-2.06.94zm10 10l.94 2.06.94-2.06 2.06-.94-2.06-.94-.94-2.06-.94 2.06-2.06.94z\"/><path d=\"M17.41 7.96l-1.37-1.37c-.4-.4-.92-.59-1.43-.59-.52 0-1.04.2-1.43.59L10.3 9.45l-7.72 7.72c-.78.78-.78 2.05 0 2.83L4 21.41c.39.39.9.59 1.41.59.51 0 1.02-.2 1.41-.59l7.78-7.78 2.81-2.81c.8-.78.8-2.07 0-2.86zM5.41 20L4 18.59l7.72-7.72 1.47 1.35L5.41 20z\"/>\n",
              "  </svg>\n",
              "      </button>\n",
              "      \n",
              "  <style>\n",
              "    .colab-df-container {\n",
              "      display:flex;\n",
              "      flex-wrap:wrap;\n",
              "      gap: 12px;\n",
              "    }\n",
              "\n",
              "    .colab-df-convert {\n",
              "      background-color: #E8F0FE;\n",
              "      border: none;\n",
              "      border-radius: 50%;\n",
              "      cursor: pointer;\n",
              "      display: none;\n",
              "      fill: #1967D2;\n",
              "      height: 32px;\n",
              "      padding: 0 0 0 0;\n",
              "      width: 32px;\n",
              "    }\n",
              "\n",
              "    .colab-df-convert:hover {\n",
              "      background-color: #E2EBFA;\n",
              "      box-shadow: 0px 1px 2px rgba(60, 64, 67, 0.3), 0px 1px 3px 1px rgba(60, 64, 67, 0.15);\n",
              "      fill: #174EA6;\n",
              "    }\n",
              "\n",
              "    [theme=dark] .colab-df-convert {\n",
              "      background-color: #3B4455;\n",
              "      fill: #D2E3FC;\n",
              "    }\n",
              "\n",
              "    [theme=dark] .colab-df-convert:hover {\n",
              "      background-color: #434B5C;\n",
              "      box-shadow: 0px 1px 3px 1px rgba(0, 0, 0, 0.15);\n",
              "      filter: drop-shadow(0px 1px 2px rgba(0, 0, 0, 0.3));\n",
              "      fill: #FFFFFF;\n",
              "    }\n",
              "  </style>\n",
              "\n",
              "      <script>\n",
              "        const buttonEl =\n",
              "          document.querySelector('#df-464d3855-ba2f-4d0b-b746-d0c936e08bb9 button.colab-df-convert');\n",
              "        buttonEl.style.display =\n",
              "          google.colab.kernel.accessAllowed ? 'block' : 'none';\n",
              "\n",
              "        async function convertToInteractive(key) {\n",
              "          const element = document.querySelector('#df-464d3855-ba2f-4d0b-b746-d0c936e08bb9');\n",
              "          const dataTable =\n",
              "            await google.colab.kernel.invokeFunction('convertToInteractive',\n",
              "                                                     [key], {});\n",
              "          if (!dataTable) return;\n",
              "\n",
              "          const docLinkHtml = 'Like what you see? Visit the ' +\n",
              "            '<a target=\"_blank\" href=https://colab.research.google.com/notebooks/data_table.ipynb>data table notebook</a>'\n",
              "            + ' to learn more about interactive tables.';\n",
              "          element.innerHTML = '';\n",
              "          dataTable['output_type'] = 'display_data';\n",
              "          await google.colab.output.renderOutput(dataTable, element);\n",
              "          const docLink = document.createElement('div');\n",
              "          docLink.innerHTML = docLinkHtml;\n",
              "          element.appendChild(docLink);\n",
              "        }\n",
              "      </script>\n",
              "    </div>\n",
              "  </div>\n",
              "  "
            ]
          },
          "metadata": {},
          "execution_count": 28
        }
      ]
    },
    {
      "cell_type": "code",
      "source": [
        "y.head()"
      ],
      "metadata": {
        "colab": {
          "base_uri": "https://localhost:8080/"
        },
        "id": "_HBpmhfoQi6S",
        "outputId": "4ad1497c-6927-4034-affe-59ab0fa3f622"
      },
      "execution_count": null,
      "outputs": [
        {
          "output_type": "execute_result",
          "data": {
            "text/plain": [
              "0    100\n",
              "1      0\n",
              "2      0\n",
              "3    100\n",
              "7    100\n",
              "Name: remote_ratio, dtype: int64"
            ]
          },
          "metadata": {},
          "execution_count": 29
        }
      ]
    },
    {
      "cell_type": "code",
      "source": [
        "from sklearn.model_selection import train_test_split"
      ],
      "metadata": {
        "id": "NpGIGJ3jQnZ6"
      },
      "execution_count": null,
      "outputs": []
    },
    {
      "cell_type": "code",
      "source": [
        "x_train, x_test, y_train, y_test = train_test_split(x, y, test_size = 0.2, random_state = 123)"
      ],
      "metadata": {
        "id": "VepQNNayQyUS"
      },
      "execution_count": null,
      "outputs": []
    },
    {
      "cell_type": "code",
      "source": [
        "from sklearn.preprocessing import StandardScaler\n",
        "scaler = StandardScaler()\n",
        "scaler.fit(x_train)\n",
        "x_train = scaler.transform(x_train)\n",
        "x_test = scaler.transform(x_test)"
      ],
      "metadata": {
        "id": "ygdeFPcnQ1rS"
      },
      "execution_count": null,
      "outputs": []
    },
    {
      "cell_type": "code",
      "source": [
        "from sklearn.neighbors import KNeighborsClassifier"
      ],
      "metadata": {
        "id": "1X15chNvQ6Zq"
      },
      "execution_count": null,
      "outputs": []
    },
    {
      "cell_type": "code",
      "source": [
        "# Activating Classification Function\n",
        "klasifikasi = KNeighborsClassifier(n_neighbors=12)"
      ],
      "metadata": {
        "id": "aBqllrT5Q8qq"
      },
      "execution_count": null,
      "outputs": []
    },
    {
      "cell_type": "code",
      "source": [
        "# Input data training ke fungsi klasifikasi\n",
        "klasifikasi.fit(x_train, y_train)"
      ],
      "metadata": {
        "colab": {
          "base_uri": "https://localhost:8080/"
        },
        "id": "RumSf1_ZRHNs",
        "outputId": "10d78f8b-0d23-404d-9af3-80bc76fdc5e7"
      },
      "execution_count": null,
      "outputs": [
        {
          "output_type": "execute_result",
          "data": {
            "text/plain": [
              "KNeighborsClassifier(n_neighbors=12)"
            ]
          },
          "metadata": {},
          "execution_count": 36
        }
      ]
    },
    {
      "cell_type": "code",
      "source": [
        "# Determine x_test prediction result\n",
        "y_pred = klasifikasi.predict(x_test)\n",
        "y_pred"
      ],
      "metadata": {
        "colab": {
          "base_uri": "https://localhost:8080/"
        },
        "id": "FcQXDb3ERTXW",
        "outputId": "c31f403a-5c58-4446-fb80-f7b515edb81e"
      },
      "execution_count": null,
      "outputs": [
        {
          "output_type": "execute_result",
          "data": {
            "text/plain": [
              "array([100, 100, 100, 100, 100, 100, 100, 100, 100, 100, 100, 100, 100,\n",
              "       100, 100, 100, 100,   0, 100, 100, 100, 100, 100, 100, 100, 100,\n",
              "       100, 100, 100, 100, 100,   0, 100, 100, 100, 100,   0, 100,  50,\n",
              "       100, 100, 100, 100, 100, 100, 100, 100, 100, 100,   0, 100, 100,\n",
              "       100, 100, 100, 100, 100, 100, 100, 100, 100, 100, 100, 100, 100,\n",
              "       100, 100, 100, 100, 100, 100, 100, 100, 100, 100, 100, 100, 100,\n",
              "       100, 100, 100, 100, 100, 100, 100, 100, 100, 100, 100, 100,   0,\n",
              "       100, 100, 100, 100, 100, 100, 100, 100, 100, 100, 100, 100, 100,\n",
              "       100, 100, 100, 100, 100, 100, 100, 100, 100, 100, 100, 100, 100,\n",
              "       100, 100, 100, 100, 100, 100, 100, 100, 100, 100, 100, 100, 100,\n",
              "       100, 100, 100, 100, 100, 100, 100, 100, 100,   0, 100, 100, 100,\n",
              "       100, 100, 100, 100, 100, 100, 100,  50, 100, 100, 100, 100, 100,\n",
              "       100, 100, 100,  50, 100, 100, 100, 100, 100, 100, 100, 100,   0])"
            ]
          },
          "metadata": {},
          "execution_count": 37
        }
      ]
    },
    {
      "cell_type": "code",
      "source": [
        "len(y_pred)"
      ],
      "metadata": {
        "colab": {
          "base_uri": "https://localhost:8080/"
        },
        "id": "za05plr1Rsc0",
        "outputId": "3376a0f2-4070-49f0-fbd6-dab5ca0668ce"
      },
      "execution_count": null,
      "outputs": [
        {
          "output_type": "execute_result",
          "data": {
            "text/plain": [
              "169"
            ]
          },
          "metadata": {},
          "execution_count": 38
        }
      ]
    },
    {
      "cell_type": "code",
      "source": [
        "# Determine probability of prediction result\n",
        "klasifikasi.predict_proba(x_test)"
      ],
      "metadata": {
        "colab": {
          "base_uri": "https://localhost:8080/"
        },
        "id": "xZFTgMmzRxOM",
        "outputId": "145a845b-e254-46ad-c8b1-666fc01f81b6"
      },
      "execution_count": null,
      "outputs": [
        {
          "output_type": "execute_result",
          "data": {
            "text/plain": [
              "array([[0.25      , 0.        , 0.75      ],\n",
              "       [0.33333333, 0.        , 0.66666667],\n",
              "       [0.16666667, 0.08333333, 0.75      ],\n",
              "       [0.41666667, 0.        , 0.58333333],\n",
              "       [0.25      , 0.08333333, 0.66666667],\n",
              "       [0.        , 0.        , 1.        ],\n",
              "       [0.16666667, 0.        , 0.83333333],\n",
              "       [0.25      , 0.        , 0.75      ],\n",
              "       [0.        , 0.25      , 0.75      ],\n",
              "       [0.16666667, 0.33333333, 0.5       ],\n",
              "       [0.16666667, 0.        , 0.83333333],\n",
              "       [0.25      , 0.08333333, 0.66666667],\n",
              "       [0.16666667, 0.16666667, 0.66666667],\n",
              "       [0.08333333, 0.08333333, 0.83333333],\n",
              "       [0.08333333, 0.        , 0.91666667],\n",
              "       [0.33333333, 0.25      , 0.41666667],\n",
              "       [0.41666667, 0.        , 0.58333333],\n",
              "       [0.41666667, 0.25      , 0.33333333],\n",
              "       [0.25      , 0.        , 0.75      ],\n",
              "       [0.16666667, 0.16666667, 0.66666667],\n",
              "       [0.16666667, 0.25      , 0.58333333],\n",
              "       [0.08333333, 0.        , 0.91666667],\n",
              "       [0.08333333, 0.        , 0.91666667],\n",
              "       [0.08333333, 0.08333333, 0.83333333],\n",
              "       [0.        , 0.33333333, 0.66666667],\n",
              "       [0.08333333, 0.25      , 0.66666667],\n",
              "       [0.08333333, 0.        , 0.91666667],\n",
              "       [0.08333333, 0.16666667, 0.75      ],\n",
              "       [0.25      , 0.33333333, 0.41666667],\n",
              "       [0.33333333, 0.        , 0.66666667],\n",
              "       [0.16666667, 0.08333333, 0.75      ],\n",
              "       [0.41666667, 0.16666667, 0.41666667],\n",
              "       [0.        , 0.33333333, 0.66666667],\n",
              "       [0.41666667, 0.        , 0.58333333],\n",
              "       [0.        , 0.33333333, 0.66666667],\n",
              "       [0.16666667, 0.08333333, 0.75      ],\n",
              "       [0.41666667, 0.16666667, 0.41666667],\n",
              "       [0.        , 0.33333333, 0.66666667],\n",
              "       [0.16666667, 0.5       , 0.33333333],\n",
              "       [0.25      , 0.16666667, 0.58333333],\n",
              "       [0.08333333, 0.        , 0.91666667],\n",
              "       [0.08333333, 0.08333333, 0.83333333],\n",
              "       [0.        , 0.25      , 0.75      ],\n",
              "       [0.25      , 0.16666667, 0.58333333],\n",
              "       [0.16666667, 0.08333333, 0.75      ],\n",
              "       [0.        , 0.        , 1.        ],\n",
              "       [0.25      , 0.16666667, 0.58333333],\n",
              "       [0.08333333, 0.08333333, 0.83333333],\n",
              "       [0.25      , 0.08333333, 0.66666667],\n",
              "       [0.41666667, 0.25      , 0.33333333],\n",
              "       [0.        , 0.25      , 0.75      ],\n",
              "       [0.08333333, 0.08333333, 0.83333333],\n",
              "       [0.33333333, 0.        , 0.66666667],\n",
              "       [0.41666667, 0.        , 0.58333333],\n",
              "       [0.25      , 0.08333333, 0.66666667],\n",
              "       [0.33333333, 0.25      , 0.41666667],\n",
              "       [0.25      , 0.        , 0.75      ],\n",
              "       [0.25      , 0.08333333, 0.66666667],\n",
              "       [0.08333333, 0.08333333, 0.83333333],\n",
              "       [0.33333333, 0.08333333, 0.58333333],\n",
              "       [0.33333333, 0.08333333, 0.58333333],\n",
              "       [0.16666667, 0.08333333, 0.75      ],\n",
              "       [0.16666667, 0.08333333, 0.75      ],\n",
              "       [0.08333333, 0.        , 0.91666667],\n",
              "       [0.25      , 0.16666667, 0.58333333],\n",
              "       [0.16666667, 0.16666667, 0.66666667],\n",
              "       [0.16666667, 0.08333333, 0.75      ],\n",
              "       [0.16666667, 0.25      , 0.58333333],\n",
              "       [0.16666667, 0.33333333, 0.5       ],\n",
              "       [0.        , 0.33333333, 0.66666667],\n",
              "       [0.25      , 0.16666667, 0.58333333],\n",
              "       [0.33333333, 0.        , 0.66666667],\n",
              "       [0.08333333, 0.08333333, 0.83333333],\n",
              "       [0.41666667, 0.08333333, 0.5       ],\n",
              "       [0.08333333, 0.16666667, 0.75      ],\n",
              "       [0.08333333, 0.41666667, 0.5       ],\n",
              "       [0.25      , 0.        , 0.75      ],\n",
              "       [0.25      , 0.25      , 0.5       ],\n",
              "       [0.25      , 0.        , 0.75      ],\n",
              "       [0.16666667, 0.08333333, 0.75      ],\n",
              "       [0.41666667, 0.        , 0.58333333],\n",
              "       [0.33333333, 0.25      , 0.41666667],\n",
              "       [0.33333333, 0.08333333, 0.58333333],\n",
              "       [0.25      , 0.08333333, 0.66666667],\n",
              "       [0.16666667, 0.25      , 0.58333333],\n",
              "       [0.33333333, 0.16666667, 0.5       ],\n",
              "       [0.08333333, 0.25      , 0.66666667],\n",
              "       [0.25      , 0.25      , 0.5       ],\n",
              "       [0.25      , 0.16666667, 0.58333333],\n",
              "       [0.16666667, 0.        , 0.83333333],\n",
              "       [0.41666667, 0.25      , 0.33333333],\n",
              "       [0.08333333, 0.41666667, 0.5       ],\n",
              "       [0.08333333, 0.        , 0.91666667],\n",
              "       [0.08333333, 0.        , 0.91666667],\n",
              "       [0.16666667, 0.08333333, 0.75      ],\n",
              "       [0.08333333, 0.        , 0.91666667],\n",
              "       [0.08333333, 0.08333333, 0.83333333],\n",
              "       [0.33333333, 0.25      , 0.41666667],\n",
              "       [0.08333333, 0.16666667, 0.75      ],\n",
              "       [0.08333333, 0.08333333, 0.83333333],\n",
              "       [0.25      , 0.08333333, 0.66666667],\n",
              "       [0.16666667, 0.08333333, 0.75      ],\n",
              "       [0.08333333, 0.08333333, 0.83333333],\n",
              "       [0.25      , 0.08333333, 0.66666667],\n",
              "       [0.25      , 0.25      , 0.5       ],\n",
              "       [0.08333333, 0.        , 0.91666667],\n",
              "       [0.25      , 0.08333333, 0.66666667],\n",
              "       [0.16666667, 0.08333333, 0.75      ],\n",
              "       [0.16666667, 0.16666667, 0.66666667],\n",
              "       [0.33333333, 0.        , 0.66666667],\n",
              "       [0.08333333, 0.16666667, 0.75      ],\n",
              "       [0.33333333, 0.        , 0.66666667],\n",
              "       [0.        , 0.08333333, 0.91666667],\n",
              "       [0.33333333, 0.        , 0.66666667],\n",
              "       [0.33333333, 0.        , 0.66666667],\n",
              "       [0.33333333, 0.25      , 0.41666667],\n",
              "       [0.16666667, 0.33333333, 0.5       ],\n",
              "       [0.16666667, 0.33333333, 0.5       ],\n",
              "       [0.41666667, 0.08333333, 0.5       ],\n",
              "       [0.33333333, 0.25      , 0.41666667],\n",
              "       [0.16666667, 0.        , 0.83333333],\n",
              "       [0.33333333, 0.25      , 0.41666667],\n",
              "       [0.41666667, 0.08333333, 0.5       ],\n",
              "       [0.33333333, 0.16666667, 0.5       ],\n",
              "       [0.25      , 0.        , 0.75      ],\n",
              "       [0.25      , 0.        , 0.75      ],\n",
              "       [0.25      , 0.        , 0.75      ],\n",
              "       [0.33333333, 0.08333333, 0.58333333],\n",
              "       [0.25      , 0.16666667, 0.58333333],\n",
              "       [0.33333333, 0.08333333, 0.58333333],\n",
              "       [0.08333333, 0.16666667, 0.75      ],\n",
              "       [0.08333333, 0.        , 0.91666667],\n",
              "       [0.08333333, 0.        , 0.91666667],\n",
              "       [0.08333333, 0.08333333, 0.83333333],\n",
              "       [0.33333333, 0.25      , 0.41666667],\n",
              "       [0.25      , 0.33333333, 0.41666667],\n",
              "       [0.        , 0.16666667, 0.83333333],\n",
              "       [0.        , 0.08333333, 0.91666667],\n",
              "       [0.25      , 0.16666667, 0.58333333],\n",
              "       [0.41666667, 0.16666667, 0.41666667],\n",
              "       [0.08333333, 0.08333333, 0.83333333],\n",
              "       [0.        , 0.08333333, 0.91666667],\n",
              "       [0.08333333, 0.        , 0.91666667],\n",
              "       [0.25      , 0.        , 0.75      ],\n",
              "       [0.33333333, 0.08333333, 0.58333333],\n",
              "       [0.33333333, 0.16666667, 0.5       ],\n",
              "       [0.16666667, 0.16666667, 0.66666667],\n",
              "       [0.        , 0.        , 1.        ],\n",
              "       [0.        , 0.08333333, 0.91666667],\n",
              "       [0.16666667, 0.08333333, 0.75      ],\n",
              "       [0.16666667, 0.41666667, 0.41666667],\n",
              "       [0.        , 0.        , 1.        ],\n",
              "       [0.16666667, 0.08333333, 0.75      ],\n",
              "       [0.08333333, 0.08333333, 0.83333333],\n",
              "       [0.08333333, 0.08333333, 0.83333333],\n",
              "       [0.08333333, 0.        , 0.91666667],\n",
              "       [0.25      , 0.16666667, 0.58333333],\n",
              "       [0.41666667, 0.        , 0.58333333],\n",
              "       [0.25      , 0.16666667, 0.58333333],\n",
              "       [0.16666667, 0.5       , 0.33333333],\n",
              "       [0.41666667, 0.08333333, 0.5       ],\n",
              "       [0.08333333, 0.08333333, 0.83333333],\n",
              "       [0.25      , 0.16666667, 0.58333333],\n",
              "       [0.08333333, 0.16666667, 0.75      ],\n",
              "       [0.25      , 0.16666667, 0.58333333],\n",
              "       [0.08333333, 0.33333333, 0.58333333],\n",
              "       [0.08333333, 0.16666667, 0.75      ],\n",
              "       [0.25      , 0.16666667, 0.58333333],\n",
              "       [0.41666667, 0.16666667, 0.41666667]])"
            ]
          },
          "metadata": {},
          "execution_count": 39
        }
      ]
    },
    {
      "cell_type": "code",
      "source": [
        "from sklearn.metrics import classification_report, confusion_matrix"
      ],
      "metadata": {
        "id": "WO8XNi6pSHtI"
      },
      "execution_count": null,
      "outputs": []
    },
    {
      "cell_type": "code",
      "source": [
        "print(confusion_matrix(y_test, y_pred))"
      ],
      "metadata": {
        "colab": {
          "base_uri": "https://localhost:8080/"
        },
        "id": "wtub36haSLy6",
        "outputId": "836c18e6-583d-413a-c72e-c0076296492d"
      },
      "execution_count": null,
      "outputs": [
        {
          "output_type": "stream",
          "name": "stdout",
          "text": [
            "[[  1   1  22]\n",
            " [  1   0  17]\n",
            " [  5   2 120]]\n"
          ]
        }
      ]
    },
    {
      "cell_type": "code",
      "source": [
        "print(classification_report(y_test, y_pred))"
      ],
      "metadata": {
        "colab": {
          "base_uri": "https://localhost:8080/"
        },
        "id": "541-BJ-wSNts",
        "outputId": "5449329e-2adf-4bc7-fa7b-ea60c9ac6752"
      },
      "execution_count": null,
      "outputs": [
        {
          "output_type": "stream",
          "name": "stdout",
          "text": [
            "              precision    recall  f1-score   support\n",
            "\n",
            "           0       0.14      0.04      0.06        24\n",
            "          50       0.00      0.00      0.00        18\n",
            "         100       0.75      0.94      0.84       127\n",
            "\n",
            "    accuracy                           0.72       169\n",
            "   macro avg       0.30      0.33      0.30       169\n",
            "weighted avg       0.59      0.72      0.64       169\n",
            "\n"
          ]
        }
      ]
    },
    {
      "cell_type": "code",
      "source": [
        "# Accuracy Score\n",
        "from sklearn.metrics import accuracy_score\n",
        "accuracy= accuracy_score(y_test, y_pred)\n",
        "accuracy"
      ],
      "metadata": {
        "colab": {
          "base_uri": "https://localhost:8080/"
        },
        "id": "__gbNxMNSQsz",
        "outputId": "cb67f261-759d-4366-8d9c-a918b915dc5e"
      },
      "execution_count": null,
      "outputs": [
        {
          "output_type": "execute_result",
          "data": {
            "text/plain": [
              "0.7159763313609467"
            ]
          },
          "metadata": {},
          "execution_count": 43
        }
      ]
    },
    {
      "cell_type": "markdown",
      "source": [
        "Nilai Accuracy K=12: 0.71 atau 71%"
      ],
      "metadata": {
        "id": "catzXfdWSV80"
      }
    },
    {
      "cell_type": "code",
      "source": [
        "error_rate=[]\n",
        "for i in range (1,30):\n",
        "    knn = KNeighborsClassifier(n_neighbors=i)\n",
        "    knn.fit(x_train, y_train)\n",
        "    pred_i = knn.predict(x_test)\n",
        "    error_rate.append(np.mean(pred_i != y_test))"
      ],
      "metadata": {
        "id": "jQndVsFjSglj"
      },
      "execution_count": null,
      "outputs": []
    },
    {
      "cell_type": "code",
      "source": [
        "mtp.figure(figsize=(10,6))\n",
        "mtp.plot(range(1,30),error_rate, color='blue',linestyle='dashed', marker='o', markerfacecolor = 'red', markersize = 8)\n",
        "mtp.title('Eror Rate Berdasarkan Nilai K')\n",
        "mtp.xlabel('K Value')\n",
        "mtp.ylabel('Mean Error')"
      ],
      "metadata": {
        "colab": {
          "base_uri": "https://localhost:8080/",
          "height": 421
        },
        "id": "aZq_qsqwSjzM",
        "outputId": "50632629-c3ac-4d88-cf18-ef87361ceb25"
      },
      "execution_count": null,
      "outputs": [
        {
          "output_type": "execute_result",
          "data": {
            "text/plain": [
              "Text(0, 0.5, 'Mean Error')"
            ]
          },
          "metadata": {},
          "execution_count": 45
        },
        {
          "output_type": "display_data",
          "data": {
            "text/plain": [
              "<Figure size 720x432 with 1 Axes>"
            ],
            "image/png": "[encoded data removed]"
          },
          "metadata": {
            "needs_background": "light"
          }
        }
      ]
    },
    {
      "cell_type": "markdown",
      "source": [
        "Pada output diatas, Error Rate paling rendah berada di K=23"
      ],
      "metadata": {
        "id": "fkECoXNzSzRN"
      }
    },
    {
      "cell_type": "code",
      "source": [
        "# Training and Prediction\n",
        "from sklearn.neighbors import KNeighborsClassifier\n",
        "classifier23 = KNeighborsClassifier(n_neighbors=23) # Menentukan nilai K (banyaknya tetangga terdekat yg menjadi acuan klasifikasi) \n",
        "classifier23.fit(x_train, y_train)\n",
        "\n",
        "# Prediction\n",
        "# Output hasil prediksi dengan K=23\n",
        "y_pred23 = classifier23.predict(x_test).tolist()\n",
        "print(\"Output hasil prediksi dengan K=23 \\n\", y_pred23)\n",
        "\n",
        "y_actual23=y_test.tolist()\n",
        "print(\"Confusion Matrix \\n\", confusion_matrix(y_actual23,y_pred23))\n",
        "\n",
        "# Akurasi K=23\n",
        "accuracy = accuracy_score(y_actual23, y_pred23)\n",
        "print(\"Akurasi K=23 :\", accuracy)\n",
        "\n",
        "print(\"\\n\", classification_report(y_actual23, y_pred23))"
      ],
      "metadata": {
        "colab": {
          "base_uri": "https://localhost:8080/"
        },
        "id": "OqSi-LoOS-ij",
        "outputId": "6700b0b5-1869-426b-b659-cd94be88988a"
      },
      "execution_count": null,
      "outputs": [
        {
          "output_type": "stream",
          "name": "stdout",
          "text": [
            "Output hasil prediksi dengan K=23 \n",
            " [100, 100, 100, 100, 100, 100, 100, 100, 100, 100, 100, 100, 100, 100, 100, 100, 100, 100, 100, 100, 100, 100, 100, 100, 100, 100, 100, 100, 100, 100, 100, 100, 100, 100, 100, 100, 100, 100, 100, 100, 100, 100, 100, 100, 100, 100, 100, 100, 100, 100, 100, 100, 100, 100, 100, 100, 100, 100, 100, 100, 100, 100, 100, 100, 100, 100, 100, 100, 100, 100, 100, 100, 100, 100, 100, 100, 100, 100, 100, 100, 100, 100, 100, 100, 100, 100, 100, 100, 100, 100, 100, 100, 100, 100, 100, 100, 100, 100, 100, 100, 100, 100, 100, 100, 100, 100, 100, 100, 100, 100, 100, 0, 100, 100, 100, 100, 100, 100, 100, 100, 100, 100, 100, 100, 100, 100, 100, 100, 100, 100, 100, 100, 100, 100, 100, 100, 100, 100, 100, 100, 100, 100, 100, 100, 100, 100, 100, 100, 100, 100, 100, 100, 100, 100, 100, 100, 100, 100, 100, 100, 100, 100, 100, 100, 100, 100, 100, 100, 100]\n",
            "Confusion Matrix \n",
            " [[  1   0  23]\n",
            " [  0   0  18]\n",
            " [  0   0 127]]\n",
            "Akurasi K=23 : 0.757396449704142\n",
            "\n",
            "               precision    recall  f1-score   support\n",
            "\n",
            "           0       1.00      0.04      0.08        24\n",
            "          50       0.00      0.00      0.00        18\n",
            "         100       0.76      1.00      0.86       127\n",
            "\n",
            "    accuracy                           0.76       169\n",
            "   macro avg       0.59      0.35      0.31       169\n",
            "weighted avg       0.71      0.76      0.66       169\n",
            "\n"
          ]
        },
        {
          "output_type": "stream",
          "name": "stderr",
          "text": [
            "/usr/local/lib/python3.7/dist-packages/sklearn/metrics/_classification.py:1318: UndefinedMetricWarning: Precision and F-score are ill-defined and being set to 0.0 in labels with no predicted samples. Use `zero_division` parameter to control this behavior.\n",
            "  _warn_prf(average, modifier, msg_start, len(result))\n",
            "/usr/local/lib/python3.7/dist-packages/sklearn/metrics/_classification.py:1318: UndefinedMetricWarning: Precision and F-score are ill-defined and being set to 0.0 in labels with no predicted samples. Use `zero_division` parameter to control this behavior.\n",
            "  _warn_prf(average, modifier, msg_start, len(result))\n",
            "/usr/local/lib/python3.7/dist-packages/sklearn/metrics/_classification.py:1318: UndefinedMetricWarning: Precision and F-score are ill-defined and being set to 0.0 in labels with no predicted samples. Use `zero_division` parameter to control this behavior.\n",
            "  _warn_prf(average, modifier, msg_start, len(result))\n"
          ]
        }
      ]
    },
    {
      "cell_type": "markdown",
      "source": [
        "Hasil dari proses Training and Prediction di atas menghasilkan K=23 adalah K terbaik karena memiliki nilai akurasi 0.75 atau 75% yang lebih besar dari K=12 yang hanya bernilai 0.71 atau 71%"
      ],
      "metadata": {
        "id": "jnZ1djRsUEha"
      }
    }
  ]
}